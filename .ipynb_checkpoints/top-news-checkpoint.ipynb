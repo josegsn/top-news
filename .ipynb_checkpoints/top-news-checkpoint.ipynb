{
 "cells": [
  {
   "cell_type": "code",
   "execution_count": 2,
   "metadata": {},
   "outputs": [],
   "source": [
    "import requests"
   ]
  },
  {
   "cell_type": "code",
   "execution_count": 82,
   "metadata": {},
   "outputs": [],
   "source": [
    "API_KEY = 'a9f1f2c4b70843cfb48e142dd83ec3a4'"
   ]
  },
  {
   "cell_type": "code",
   "execution_count": 83,
   "metadata": {},
   "outputs": [
    {
     "data": {
      "text/plain": [
       "32"
      ]
     },
     "execution_count": 83,
     "metadata": {},
     "output_type": "execute_result"
    }
   ],
   "source": []
  },
  {
   "cell_type": "code",
   "execution_count": 103,
   "metadata": {},
   "outputs": [],
   "source": [
    "def get_response(url = 'https://newsapi.org/v2/top-headlines?country={0}&category={1}&apiKey={2}', category = 'technology', country = 'us'):\n",
    "    \n",
    "    user_api_key = input('Insert API KEY')\n",
    "    \n",
    "    while len(user_api_key) != 32:\n",
    "        user_api_key = input('Insert correct API KEY')\n",
    "    \n",
    "    \n",
    "    available_categories = ['technology','business','entertainment','general','health','science','sports','technology']\n",
    " \n",
    "    category = input(\"\"\"\n",
    "    Pick category:\n",
    "    technology\n",
    "    business\n",
    "    entertainment\n",
    "    general\n",
    "    health\n",
    "    science\n",
    "    sports\n",
    "    technology\n",
    "    \n",
    "    Press enter for 'general' headlines\n",
    "    \"\"\")\n",
    "    \n",
    "    category = category.lower()\n",
    "\n",
    "    if category == '':\n",
    "        print(\"Retrieving General headlines\")\n",
    "        response = requests.get(url.format(country, 'general', user_api_key))\n",
    "    elif category not in available_categories:\n",
    "        print(\"Category not found\")\n",
    "        print(\"Retrieving General headlines\")\n",
    "        response = requests.get(url.format(country, 'general', user_api_key))\n",
    "    else:\n",
    "        response = requests.get(url.format(country, category , user_api_key))\n",
    "\n",
    "        \n",
    "    if response:\n",
    "        return response.json()\n",
    "    else:\n",
    "        return None\n"
   ]
  },
  {
   "cell_type": "code",
   "execution_count": 130,
   "metadata": {},
   "outputs": [],
   "source": [
    "def get_articles():\n",
    "    raw_articles_list = get_response()['articles']\n",
    "    articles_list = list()\n",
    "    \n",
    "    for article in raw_articles_list:\n",
    "        title = article['title']\n",
    "        source = article['source']['name']\n",
    "        author = article['author']\n",
    "        url = article['url']\n",
    "        \n",
    "        dictionary = {'title':title, 'source':source, 'author':author, 'url':url}\n",
    "        \n",
    "        articles_list.append(dictionary)\n",
    "        \n",
    "    return articles_list\n",
    "        \n",
    "        \n"
   ]
  },
  {
   "cell_type": "code",
   "execution_count": 131,
   "metadata": {},
   "outputs": [
    {
     "name": "stdin",
     "output_type": "stream",
     "text": [
      "Insert API KEY a9f1f2c4b70843cfb48e142dd83ec3a4\n",
      "\n",
      "    Pick category:\n",
      "    technology\n",
      "    business\n",
      "    entertainment\n",
      "    general\n",
      "    health\n",
      "    science\n",
      "    sports\n",
      "    technology\n",
      "    \n",
      "    Press enter for 'general' headlines\n",
      "     \n"
     ]
    },
    {
     "name": "stdout",
     "output_type": "stream",
     "text": [
      "Retrieving General headlines\n"
     ]
    },
    {
     "data": {
      "text/plain": [
       "[{'title': 'Trump Native Americans: President to sign executive order for task force on missing, murdered Native Americans - CBS News',\n",
       "  'source': 'Google News',\n",
       "  'author': None,\n",
       "  'url': 'https://news.google.com/__i/rss/rd/articles/CBMiigFodHRwczovL3d3dy5jYnNuZXdzLmNvbS9uZXdzL3RydW1wLW5hdGl2ZS1hbWVyaWNhbnMtcHJlc2lkZW50LXRvLXNpZ24tZXhlY3V0aXZlLW9yZGVyLWZvci10YXNrLWZvcmNlLW9uLW1pc3NpbmctbXVyZGVyZWQtbmF0aXZlLWFtZXJpY2Fucy_SAY4BaHR0cHM6Ly93d3cuY2JzbmV3cy5jb20vYW1wL25ld3MvdHJ1bXAtbmF0aXZlLWFtZXJpY2Fucy1wcmVzaWRlbnQtdG8tc2lnbi1leGVjdXRpdmUtb3JkZXItZm9yLXRhc2stZm9yY2Utb24tbWlzc2luZy1tdXJkZXJlZC1uYXRpdmUtYW1lcmljYW5zLw?oc=5'},\n",
       " {'title': 'Ketamine Dose Might Help Heavy Drinkers - NPR',\n",
       "  'source': 'Google News',\n",
       "  'author': None,\n",
       "  'url': 'https://news.google.com/__i/rss/rd/articles/CBMiaGh0dHBzOi8vd3d3Lm5wci5vcmcvMjAxOS8xMS8yNi83ODIwNjYzMzcvYS1zaW5nbGUtZG9zZS1vZi1rZXRhbWluZS1taWdodC1oZWxwLWhlYXZ5LWRyaW5rZXJzLXN0dWR5LWZpbmRz0gEA?oc=5'},\n",
       " {'title': \"Tesla's Cybertruck vs. Ford's F-150: Bring it on - CNN\",\n",
       "  'source': 'Google News',\n",
       "  'author': None,\n",
       "  'url': 'https://news.google.com/__i/rss/rd/articles/CBMiTmh0dHBzOi8vd3d3LmNubi5jb20vMjAxOS8xMS8yNi9jYXJzL2ZvcmQtdGVzbGEtY3liZXJ0cnVjay1jaGFsbGVuZ2UvaW5kZXguaHRtbNIBUmh0dHBzOi8vYW1wLmNubi5jb20vY25uLzIwMTkvMTEvMjYvY2Fycy9mb3JkLXRlc2xhLWN5YmVydHJ1Y2stY2hhbGxlbmdlL2luZGV4Lmh0bWw?oc=5'},\n",
       " {'title': 'House Democrats sue attorney general, commerce secretary to force them to comply with census question probe - CNN',\n",
       "  'source': 'Google News',\n",
       "  'author': None,\n",
       "  'url': 'https://news.google.com/__i/rss/rd/articles/CBMibmh0dHBzOi8vd3d3LmNubi5jb20vMjAxOS8xMS8yNi9wb2xpdGljcy9vdmVyc2lnaHQtY29tbWl0dGVlLWxhd3N1aXQtY2Vuc3VzLXdpbGxpYW0tYmFyci13aWxidXItcm9zcy9pbmRleC5odG1s0gFyaHR0cHM6Ly9hbXAuY25uLmNvbS9jbm4vMjAxOS8xMS8yNi9wb2xpdGljcy9vdmVyc2lnaHQtY29tbWl0dGVlLWxhd3N1aXQtY2Vuc3VzLXdpbGxpYW0tYmFyci13aWxidXItcm9zcy9pbmRleC5odG1s?oc=5'},\n",
       " {'title': 'Why the Don McGahn ruling is a very big deal - CNN',\n",
       "  'source': 'CNN',\n",
       "  'author': 'Analysis by Chris Cillizza, CNN Editor-at-large',\n",
       "  'url': 'https://www.cnn.com/2019/11/26/politics/don-mcgahn-subpoena-testify/index.html'},\n",
       " {'title': 'NASA’s giant ‘Super Guppy’ plane delivers the agency’s spacecraft to Ohio - The Verge',\n",
       "  'source': 'The Verge',\n",
       "  'author': 'Loren Grush',\n",
       "  'url': 'https://www.theverge.com/2019/11/26/20983792/nasa-super-guppy-plane-orion-crew-capsule-testing-ohio'},\n",
       " {'title': 'Disney+ adds ‘Continue Watching’ feature - TechCrunch',\n",
       "  'source': 'TechCrunch',\n",
       "  'author': 'Darrell Etherington',\n",
       "  'url': 'http://techcrunch.com/2019/11/26/disney-adds-continue-watching-feature/'},\n",
       " {'title': 'Xbox chief: “Nobody’s asking for VR” for Project Scarlett - Ars Technica',\n",
       "  'source': 'Ars Technica',\n",
       "  'author': 'Kyle Orland',\n",
       "  'url': 'https://arstechnica.com/gaming/2019/11/xbox-chief-nobodys-asking-for-vr-for-project-scarlett/'},\n",
       " {'title': \"US life expectancy is still on the decline. Here's why - CNN\",\n",
       "  'source': 'CNN',\n",
       "  'author': 'Jen Christensen, CNN',\n",
       "  'url': 'https://www.cnn.com/2019/11/26/health/us-life-expectancy-decline-study/index.html'},\n",
       " {'title': 'Black Friday 2019: The ultimate deals and discount guide - CNET',\n",
       "  'source': 'Cnet.com',\n",
       "  'author': 'CNET staff',\n",
       "  'url': 'https://www.cnet.com/news/black-friday-2019-the-ultimate-deals-and-discount-guide/'},\n",
       " {'title': 'Cave fire swells to 4,100 acres, threatening homes in Santa Barbara County - Los Angeles Times',\n",
       "  'source': 'Latimes.com',\n",
       "  'author': 'Leila Miller, Hannah Fry, Jaclyn Cosgrove',\n",
       "  'url': 'https://www.latimes.com/california/story/2019-11-25/fire-los-padres-national-forest-santa-barbara'},\n",
       " {'title': 'India Admits Lunar Lander Crashed - NPR',\n",
       "  'source': 'Npr.org',\n",
       "  'author': '',\n",
       "  'url': 'https://www.npr.org/2019/11/26/782890646/2-months-after-failed-moon-landing-india-admits-its-craft-crashed'},\n",
       " {'title': \"Saoirse Ronan Talks Filming 'Little Women' with Greta Gerwig and Timothee Chalamet - Variety\",\n",
       "  'source': 'Youtube.com',\n",
       "  'author': None,\n",
       "  'url': 'https://www.youtube.com/watch?v=67P0Vst46vo'},\n",
       " {'title': 'Hong Kong Polytechnic University standoff appears over as search yields only one protester - Fox News',\n",
       "  'source': 'Google News',\n",
       "  'author': None,\n",
       "  'url': 'https://news.google.com/__i/rss/rd/articles/CBMiSGh0dHBzOi8vd3d3LmZveG5ld3MuY29tL3dvcmxkL2hvbmcta29uZy11bml2ZXJzaXR5LXN0YW5kb2ZmLWFwcGVhcnMtb3ZlctIBTGh0dHBzOi8vd3d3LmZveG5ld3MuY29tL3dvcmxkL2hvbmcta29uZy11bml2ZXJzaXR5LXN0YW5kb2ZmLWFwcGVhcnMtb3Zlci5hbXA?oc=5'},\n",
       " {'title': 'Making of \\'The Irishman\\': Robert De Niro, Al Pacino Bring Scorsese\\'s Career \"Experiment\" to Big Screen - Hollywood Reporter',\n",
       "  'source': 'Hollywoodreporter.com',\n",
       "  'author': 'Rebecca Keegan',\n",
       "  'url': 'https://www.hollywoodreporter.com/features/making-irishman-robert-de-niro-al-pacino-bring-scorseses-career-experiment-big-screen-1257256'},\n",
       " {'title': \"Flames' Bill Peters Accused Of Calling Black Player N-Word, NHL Investigating - TMZ\",\n",
       "  'source': 'Google News',\n",
       "  'author': None,\n",
       "  'url': 'https://news.google.com/__i/rss/rd/articles/CBMiWmh0dHBzOi8vd3d3LnRtei5jb20vMjAxOS8xMS8yNi9jYWxnYXJ5LWZsYW1lcy1iaWxsLXBldGVycy1pbnZlc3RpZ2F0aW9uLXJhY2lzbS1jbGFpbXMtbmhsL9IBWmh0dHBzOi8vYW1wLnRtei5jb20vMjAxOS8xMS8yNi9jYWxnYXJ5LWZsYW1lcy1iaWxsLXBldGVycy1pbnZlc3RpZ2F0aW9uLXJhY2lzbS1jbGFpbXMtbmhsLw?oc=5'},\n",
       " {'title': 'Denver airport cancels over 450 flights amid snowy weather, urges travelers to check with airlines - Fox News',\n",
       "  'source': 'Google News',\n",
       "  'author': None,\n",
       "  'url': 'https://news.google.com/__i/rss/rd/articles/CBMiQmh0dHBzOi8vd3d3LmZveG5ld3MuY29tL3RyYXZlbC9kZW52ZXItYWlycG9ydC1jYW5jZWxzLWZsaWdodHMtc25vd9IBRmh0dHBzOi8vd3d3LmZveG5ld3MuY29tL3RyYXZlbC9kZW52ZXItYWlycG9ydC1jYW5jZWxzLWZsaWdodHMtc25vdy5hbXA?oc=5'},\n",
       " {'title': 'NFL Power Rankings Poll Week 13: Lamar and the Ravens Alone on Top - Sports Illustrated',\n",
       "  'source': 'Si.com',\n",
       "  'author': 'The MMQB Staff',\n",
       "  'url': 'https://www.si.com/nfl/2019/11/26/nfl-power-rankings-poll-week-13-ravens-49ers-patriots'},\n",
       " {'title': 'Scarlett Johansson Weighs In on Her History of Controversial Comments - E! NEWS',\n",
       "  'source': 'Eonline.com',\n",
       "  'author': 'Jess Cohen',\n",
       "  'url': 'https://www.eonline.com/news/1097215/scarlett-johansson-weighs-in-on-her-history-of-controversial-comments'},\n",
       " {'title': 'Feral Hogs Attack and Kill a Woman in Texas - The New York Times',\n",
       "  'source': 'The New York Times',\n",
       "  'author': None,\n",
       "  'url': 'https://www.nytimes.com/2019/11/26/us/texas-woman-killed-feral-hogs.html'}]"
      ]
     },
     "execution_count": 131,
     "metadata": {},
     "output_type": "execute_result"
    }
   ],
   "source": [
    "get_articles()"
   ]
  },
  {
   "cell_type": "code",
   "execution_count": null,
   "metadata": {},
   "outputs": [],
   "source": []
  },
  {
   "cell_type": "code",
   "execution_count": null,
   "metadata": {},
   "outputs": [],
   "source": []
  }
 ],
 "metadata": {
  "kernelspec": {
   "display_name": "Python 3",
   "language": "python",
   "name": "python3"
  },
  "language_info": {
   "codemirror_mode": {
    "name": "ipython",
    "version": 3
   },
   "file_extension": ".py",
   "mimetype": "text/x-python",
   "name": "python",
   "nbconvert_exporter": "python",
   "pygments_lexer": "ipython3",
   "version": "3.7.4"
  }
 },
 "nbformat": 4,
 "nbformat_minor": 4
}
