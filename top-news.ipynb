{
 "cells": [
  {
   "cell_type": "code",
   "execution_count": 1,
   "metadata": {},
   "outputs": [],
   "source": [
    "import requests"
   ]
  },
  {
   "cell_type": "code",
   "execution_count": 2,
   "metadata": {},
   "outputs": [],
   "source": [
    "API_KEY = 'a9f1f2c4b70843cfb48e142dd83ec3a4'"
   ]
  },
  {
   "cell_type": "code",
   "execution_count": null,
   "metadata": {},
   "outputs": [],
   "source": []
  },
  {
   "cell_type": "code",
   "execution_count": 3,
   "metadata": {},
   "outputs": [],
   "source": [
    "def get_response(user_api_key = 'a9f1f2c4b70843cfb48e142dd83ec3a4', category = 'technology', country = 'us'):\n",
    "    \n",
    "    url = 'https://newsapi.org/v2/top-headlines?country={0}&category={1}&apiKey={2}'\n",
    "        \n",
    "    while len(user_api_key) != 32:\n",
    "        user_api_key = input('Insert correct API KEY')\n",
    "    \n",
    "    \n",
    "    available_categories = ['technology','business','entertainment','general','health','science','sports','technology']\n",
    " \n",
    "    category = input(\"\"\"\n",
    "    Pick category:\n",
    "    technology\n",
    "    business\n",
    "    entertainment\n",
    "    general\n",
    "    health\n",
    "    science\n",
    "    sports\n",
    "    technology\n",
    "    \n",
    "    Press enter for 'general' headlines\n",
    "    \"\"\")\n",
    "    \n",
    "    category = category.lower()\n",
    "\n",
    "    if category == '':\n",
    "        print(\"\\nRetrieving General headlines\")\n",
    "        response = requests.get(url.format(country, 'general', user_api_key))\n",
    "    elif category not in available_categories:\n",
    "        print(\"\\nCategory not found\")\n",
    "        print(\"Retrieving General headlines\")\n",
    "        response = requests.get(url.format(country, 'general', user_api_key))\n",
    "    else:\n",
    "        response = requests.get(url.format(country, category , user_api_key))\n",
    "\n",
    "        \n",
    "    if response:\n",
    "        return response.json()\n",
    "    else:\n",
    "        return None\n"
   ]
  },
  {
   "cell_type": "code",
   "execution_count": 4,
   "metadata": {},
   "outputs": [],
   "source": [
    "def get_articles():\n",
    "    raw_articles_list = get_response()['articles']\n",
    "    articles_list = list()\n",
    "    \n",
    "    for article in raw_articles_list:\n",
    "        title = article['title']\n",
    "        source = article['source']['name']\n",
    "        author = article['author']\n",
    "        url = article['url']\n",
    "        \n",
    "        dictionary = {'title':title, 'source':source, 'author':author, 'url':url}\n",
    "        \n",
    "        articles_list.append(dictionary)\n",
    "        \n",
    "    return articles_list\n",
    "        \n",
    "        \n"
   ]
  },
  {
   "cell_type": "code",
   "execution_count": 5,
   "metadata": {},
   "outputs": [
    {
     "name": "stdin",
     "output_type": "stream",
     "text": [
      "\n",
      "    Pick category:\n",
      "    technology\n",
      "    business\n",
      "    entertainment\n",
      "    general\n",
      "    health\n",
      "    science\n",
      "    sports\n",
      "    technology\n",
      "    \n",
      "    Press enter for 'general' headlines\n",
      "     Sports\n"
     ]
    },
    {
     "data": {
      "text/plain": [
       "[{'title': \"Paul George -- Clippers' offense 'work in progress,' but defense 'scary' - ESPN\",\n",
       "  'source': 'Espn.com',\n",
       "  'author': None,\n",
       "  'url': 'https://www.espn.com/nba/story/_/id/28173596/paul-george-clippers-offense-work-progress-defense-scary'},\n",
       " {'title': '2019 Maui Invitational scores, bracket, schedule: Kansas, Dayton set to clash in championship game - CBS Sports',\n",
       "  'source': 'Cbssports.com',\n",
       "  'author': '',\n",
       "  'url': 'https://www.cbssports.com/college-basketball/news/2019-maui-invitational-scores-bracket-schedule-kansas-dayton-set-to-clash-in-championship-game/'},\n",
       " {'title': 'Duke stunned at home by Stephen F. Austin, loses 85-83 - Fox News',\n",
       "  'source': 'Fox News',\n",
       "  'author': 'Fox News',\n",
       "  'url': 'https://www.foxnews.com/sports/duke-stunned-at-home-by-stephen-f-austin-loses-85-83'},\n",
       " {'title': 'Contextualizing the rarity of an 81-yard touchdown on third-and-16 and how Oregon Ducks intend to address pas - OregonLive',\n",
       "  'source': 'Oregonlive.com',\n",
       "  'author': 'James Crepea | The Oregonian/OregonLive',\n",
       "  'url': 'https://www.oregonlive.com/ducks/2019/11/contextualizing-rarity-of-an-81-yard-touchdown-on-third-and-16-and-how-oregon-ducks-intend-to-address-pass-coverage.html'},\n",
       " {'title': 'Carmelo Anthony’s son watched him make NBA history through FaceTime with his mother, La La - syracuse.com',\n",
       "  'source': 'Syracuse.com',\n",
       "  'author': 'Tim Brown | The Oregonian/OregonLive',\n",
       "  'url': 'https://www.syracuse.com/orangebasketball/2019/11/carmelo-anthonys-son-watched-him-make-nba-history-through-facetime-with-his-mother-la-la.html'},\n",
       " {'title': 'Driving for 6: Can a 5-7 Nebraska team get a bowl berth?; redshirt latest; recruiting update - Lincoln Journal Star',\n",
       "  'source': 'Google News',\n",
       "  'author': None,\n",
       "  'url': 'https://news.google.com/__i/rss/rd/articles/CBMikAFodHRwczovL2pvdXJuYWxzdGFyLmNvbS9zcG9ydHMvaHVza2Vycy9saWZlLWluLXRoZS1yZWQvZHJpdmluZy1mb3ItY2FuLWEtLS1uZWJyYXNrYS10ZWFtLWdldC1hL2FydGljbGVfMWE4NmY1NzUtNDRiYy01N2Q0LWIxMDktZDE1N2ZkMjJiZGE3Lmh0bWzSAZQBaHR0cHM6Ly9qb3VybmFsc3Rhci5jb20vc3BvcnRzL2h1c2tlcnMvbGlmZS1pbi10aGUtcmVkL2RyaXZpbmctZm9yLWNhbi1hLS0tbmVicmFza2EtdGVhbS1nZXQtYS9hcnRpY2xlXzFhODZmNTc1LTQ0YmMtNTdkNC1iMTA5LWQxNTdmZDIyYmRhNy5hbXAuaHRtbA?oc=5'},\n",
       " {'title': 'NHL Highlights | Stars vs. Blackhawks – Nov. 26, 2019 - SPORTSNET',\n",
       "  'source': 'Youtube.com',\n",
       "  'author': None,\n",
       "  'url': 'https://www.youtube.com/watch?v=l0zC16P3-xM'},\n",
       " {'title': 'NHL Highlights | Bruins vs. Canadiens – Nov. 26, 2019 - SPORTSNET',\n",
       "  'source': 'Youtube.com',\n",
       "  'author': None,\n",
       "  'url': 'https://www.youtube.com/watch?v=VY3mgSK1gmU'},\n",
       " {'title': 'Seahawks Mailbag: Running Back Carries, MVP Race & More - Seahawks.com',\n",
       "  'source': 'Google News',\n",
       "  'author': None,\n",
       "  'url': 'https://news.google.com/__i/rss/rd/articles/CBMiUWh0dHBzOi8vd3d3LnNlYWhhd2tzLmNvbS9uZXdzL3NlYWhhd2tzLW1haWxiYWctcnVubmluZy1iYWNrLWNhcnJpZXMtbXZwLXJhY2UtbW9yZdIBAA?oc=5'},\n",
       " {'title': 'NHL Highlights | Wild vs. Devils – Nov. 26, 2019 - SPORTSNET',\n",
       "  'source': 'Youtube.com',\n",
       "  'author': None,\n",
       "  'url': 'https://www.youtube.com/watch?v=Js1ZjVYCwZs'},\n",
       " {'title': 'Michigan football, Shea Patterson still feel the burn of excruciating Ohio State loss - Detroit Free Press',\n",
       "  'source': 'Freep.com',\n",
       "  'author': 'Orion Sang',\n",
       "  'url': 'https://www.freep.com/story/sports/college/university-michigan/wolverines/2019/11/26/michigan-football-shea-patterson-ohio-state/4315241002/?utm_source=google&utm_medium=amp&utm_campaign=speakable'},\n",
       " {'title': 'College Football Playoff Rankings: Ohio State jumps LSU for #1 spot in new top 25 | CBS Sports HQ - CBS Sports',\n",
       "  'source': 'Youtube.com',\n",
       "  'author': None,\n",
       "  'url': 'https://www.youtube.com/watch?v=qhCNSyxpCsg'},\n",
       " {'title': \"Ravens' Lamar Jackson passes Michael Vick as Madden's fastest QB - ESPN\",\n",
       "  'source': 'Espn.com',\n",
       "  'author': None,\n",
       "  'url': 'https://www.espn.com/nfl/story/_/id/28172126/ravens-lamar-jackson-passes-michael-vick-madden-fastest-qb'},\n",
       " {'title': \"Brandon Ingram on the Lakers last year: 'It wasn't always good energy' - USA TODAY\",\n",
       "  'source': 'USA Today',\n",
       "  'author': 'Mark Medina',\n",
       "  'url': 'https://www.usatoday.com/story/sports/nba/2019/11/26/brandon-ingram-lakers-bad-energy/4315037002/?utm_source=google&utm_medium=amp&utm_campaign=speakable'},\n",
       " {'title': 'Vogt agrees to 1-year deal with D-backs - MLB.com',\n",
       "  'source': 'Google News',\n",
       "  'author': None,\n",
       "  'url': 'https://news.google.com/__i/rss/rd/articles/CBMiMmh0dHBzOi8vd3d3Lm1sYi5jb20vbmV3cy9zdGVwaGVuLXZvZ3QtZGVhbC1kLWJhY2tz0gE7aHR0cHM6Ly93d3cubWxiLmNvbS9hbXAvbmV3cy9zdGVwaGVuLXZvZ3QtZGVhbC1kLWJhY2tzLmh0bWw?oc=5'},\n",
       " {'title': 'Pittsburgh Steelers say a report is ‘absolutely false’ that they might ban Myles Garrett jerseys at Heinz Fie - cleveland.com',\n",
       "  'source': 'Cleveland.com',\n",
       "  'author': 'Mary Kay Cabot, cleveland.com',\n",
       "  'url': 'https://www.cleveland.com/browns/2019/11/steelers-say-a-report-is-absolutely-false-that-they-might-ban-myles-garretts-jerseys-at-heinz-field-sunday.html'},\n",
       " {'title': 'Peters will not coach Flames vs. Sabres Wednesday - NBCSports.com',\n",
       "  'source': 'Nbcsports.com',\n",
       "  'author': 'Scott Charles',\n",
       "  'url': 'https://nhl.nbcsports.com/2019/11/26/peters-will-not-coach-flames-vs-sabres-wednesday/'},\n",
       " {'title': 'Bill Belichick -- NFL 100 selection process made me better coach - ESPN',\n",
       "  'source': 'Espn.com',\n",
       "  'author': None,\n",
       "  'url': 'https://www.espn.com/nfl/story/_/id/28172021/bill-belichick-nfl-100-selection-process-made-better-coach'},\n",
       " {'title': \"Wisconsin football: Badgers remain No. 12 in week 14 CFP poll - Bucky's 5th Quarter\",\n",
       "  'source': 'Google News',\n",
       "  'author': None,\n",
       "  'url': 'https://news.google.com/__i/rss/rd/articles/CBMimQFodHRwczovL3d3dy5idWNreXM1dGhxdWFydGVyLmNvbS8yMDE5LzExLzI2LzIwOTg0NzUxL3dpc2NvbnNpbi1mb290YmFsbC1iYWRnZXJzLXJlbWFpbi1uby0xMi1pbi13ZWVrLTE0LWNmcC1wb2xsLWNvbGxlZ2UtZm9vdGJhbGwtcGxheW9mZi1vcmVnb24tb2tsYWhvbWHSAaYBaHR0cHM6Ly93d3cuYnVja3lzNXRocXVhcnRlci5jb20vcGxhdGZvcm0vYW1wLzIwMTkvMTEvMjYvMjA5ODQ3NTEvd2lzY29uc2luLWZvb3RiYWxsLWJhZGdlcnMtcmVtYWluLW5vLTEyLWluLXdlZWstMTQtY2ZwLXBvbGwtY29sbGVnZS1mb290YmFsbC1wbGF5b2ZmLW9yZWdvbi1va2xhaG9tYQ?oc=5'},\n",
       " {'title': '20 reasons it’s better to be an Auburn fan than an Alabama fan - Saturday Down South',\n",
       "  'source': 'Saturdaydownsouth.com',\n",
       "  'author': None,\n",
       "  'url': 'https://www.saturdaydownsouth.com/auburn-football/20-reasons-its-better-to-be-an-auburn-fan-than-an-alabama-fan/'}]"
      ]
     },
     "execution_count": 5,
     "metadata": {},
     "output_type": "execute_result"
    }
   ],
   "source": [
    "get_articles()"
   ]
  },
  {
   "cell_type": "code",
   "execution_count": 8,
   "metadata": {},
   "outputs": [],
   "source": [
    "\n",
    "def export_articles(n = 50):\n",
    "    data = get_articles()\n",
    "    total_articles = len(data)\n",
    "    \n",
    "    if n > total_articles:\n",
    "        print(f\"There are only {total_articles} articles available!\\n\")\n",
    "         \n",
    "        print(f\"Exporting {total_articles} articles\\n\")\n",
    "        final_data =  data[:total_articles]\n",
    "    \n",
    "    else:\n",
    "        final_data = data[:n]\n",
    "    \n",
    "    with open('articles.txt','w') as file:\n",
    "        i = 1\n",
    "        for article in final_data:\n",
    "            file.write(f\"Article {i}\\n{article['title']} \\n{article['author']}\\n{article['source']}\\n{article['url']}\\n\\n\")\n",
    "            i += 1\n",
    "        \n"
   ]
  },
  {
   "cell_type": "code",
   "execution_count": 9,
   "metadata": {},
   "outputs": [
    {
     "name": "stdin",
     "output_type": "stream",
     "text": [
      "\n",
      "    Pick category:\n",
      "    technology\n",
      "    business\n",
      "    entertainment\n",
      "    general\n",
      "    health\n",
      "    science\n",
      "    sports\n",
      "    technology\n",
      "    \n",
      "    Press enter for 'general' headlines\n",
      "     Technology\n"
     ]
    }
   ],
   "source": [
    "export_articles(10)"
   ]
  },
  {
   "cell_type": "code",
   "execution_count": null,
   "metadata": {},
   "outputs": [],
   "source": []
  }
 ],
 "metadata": {
  "kernelspec": {
   "display_name": "Python 3",
   "language": "python",
   "name": "python3"
  },
  "language_info": {
   "codemirror_mode": {
    "name": "ipython",
    "version": 3
   },
   "file_extension": ".py",
   "mimetype": "text/x-python",
   "name": "python",
   "nbconvert_exporter": "python",
   "pygments_lexer": "ipython3",
   "version": "3.7.4"
  }
 },
 "nbformat": 4,
 "nbformat_minor": 4
}
